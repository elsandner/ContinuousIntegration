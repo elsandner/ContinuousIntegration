{
  "nbformat": 4,
  "nbformat_minor": 0,
  "metadata": {
    "colab": {
      "name": "hyperparameter_search.ipynb",
      "provenance": [],
      "collapsed_sections": [],
      "authorship_tag": "ABX9TyMYgiVzPrBI6B67UH0lgAvp",
      "include_colab_link": true
    },
    "kernelspec": {
      "name": "python3",
      "display_name": "Python 3"
    },
    "language_info": {
      "name": "python"
    },
    "accelerator": "GPU"
  },
  "cells": [
    {
      "cell_type": "markdown",
      "metadata": {
        "id": "view-in-github",
        "colab_type": "text"
      },
      "source": [
        "<a href=\"https://colab.research.google.com/github/elsandner/ContinuousIntegration/blob/master/hyperparameter_search.ipynb\" target=\"_parent\"><img src=\"https://colab.research.google.com/assets/colab-badge.svg\" alt=\"Open In Colab\"/></a>"
      ]
    },
    {
      "cell_type": "markdown",
      "source": [
        "**Hyperparameter Tuning**\n",
        "\n",
        "\n",
        "Preprocessing: "
      ],
      "metadata": {
        "id": "uy1ucB3VLRs1"
      }
    },
    {
      "cell_type": "code",
      "source": [
        "import tensorflow as tf\n",
        "import numpy as np\n",
        "\n",
        "from keras.models import Sequential\n",
        "from keras.layers import Dense, Embedding, Dropout, GRU, Bidirectional\n",
        "from keras.preprocessing import sequence\n",
        "\n",
        "!pip install -q -U keras-tuner\n",
        "import keras_tuner as kt\n",
        "\n",
        "\n",
        "(x_train, y_train), (x_test, y_test) = tf.keras.datasets.imdb.load_data(num_words=20000)  # load imdb data\n",
        "print(\"x_train shape: \", x_train.shape, \"\\ny_train_shape:\", y_train.shape)\n",
        "\n",
        "\n",
        "x_train = sequence.pad_sequences(x_train, 1000)  # transforms a list of sequences into a 2D Numpy array\n",
        "x_test = sequence.pad_sequences(x_test, 1000)\n",
        "print(x_train.shape)\n",
        "len(tf.keras.datasets.imdb.get_word_index(path=\"imdb_word_index.json\")) \n",
        "\n",
        "\n",
        "#fixes error\n",
        "y_train = np.asarray(y_train).astype('float32').reshape((-1,1))\n",
        "y_test = np.asarray(y_test).astype('float32').reshape((-1,1))"
      ],
      "metadata": {
        "id": "qsy7Do1QLW13",
        "colab": {
          "base_uri": "https://localhost:8080/"
        },
        "outputId": "a6b1bd95-1b47-41dc-d530-6e74420375fa"
      },
      "execution_count": 3,
      "outputs": [
        {
          "output_type": "stream",
          "name": "stdout",
          "text": [
            "\u001b[K     |████████████████████████████████| 98 kB 5.4 MB/s \n",
            "\u001b[?25hDownloading data from https://storage.googleapis.com/tensorflow/tf-keras-datasets/imdb.npz\n",
            "17465344/17464789 [==============================] - 0s 0us/step\n",
            "17473536/17464789 [==============================] - 0s 0us/step\n",
            "x_train shape:  (25000,) \n",
            "y_train_shape: (25000,)\n",
            "(25000, 1000)\n",
            "Downloading data from https://storage.googleapis.com/tensorflow/tf-keras-datasets/imdb_word_index.json\n",
            "1646592/1641221 [==============================] - 0s 0us/step\n",
            "1654784/1641221 [==============================] - 0s 0us/step\n"
          ]
        }
      ]
    },
    {
      "cell_type": "markdown",
      "source": [
        "**Hyperparameter which we will try to optimize**\n",
        "\n",
        "\n",
        "*   Unidirectional vs bidirectional GRU layers\n",
        "*   Number of hidden GRU Layers \n",
        "*   Number of hidden units\n",
        "*   Dropout-rate\n",
        "\n",
        "What also could be optimized: \n",
        "*   activation functions\n",
        "*   learning rate of optimizer\n",
        "*   input length (1000 is a best practice value) \n",
        "*   more dropout layers between GRU Layers\n",
        "\n"
      ],
      "metadata": {
        "id": "7uL9p3azc35a"
      }
    },
    {
      "cell_type": "markdown",
      "source": [
        "## Model 1: \n",
        "here we test unidirectional GRUs and adopt the number of units and the learning rate of the dropout layer. \n",
        "\n",
        "In the unidirectional GRU layer we are testing the unitsizes: 15, 20, 25\n",
        "\n",
        "In the dropout layer we are testing the dropout-rates: 0.5, 0.6, 0.7, 0.8\n",
        "\n",
        "**Dropout Rate** (Source: https://machinelearningmastery.com/dropout-for-regularizing-deep-neural-networks/) \n",
        "The default interpretation of the dropout hyperparameter is the probability of training a given node in a layer, where 1.0 means no dropout, and 0.0 means no outputs from the layer.\n",
        "\n",
        "A good value for dropout in a hidden layer is between 0.5 and 0.8. Input layers use a larger dropout rate, such as of 0.8."
      ],
      "metadata": {
        "id": "e8_9bEeK_eYN"
      }
    },
    {
      "cell_type": "code",
      "source": [
        "def build_model_1(hp):\n",
        "    model = Sequential()\n",
        "\n",
        "    #  input layer\n",
        "    model.add(Embedding(input_dim=20000, output_dim=16, input_length=1000))\n",
        "\n",
        "    #  hidden layers \n",
        "    model.add(GRU(units=hp.Int('units1',   \n",
        "                                 min_value=15,         \n",
        "                                 max_value=25,\n",
        "                                 step=5),\n",
        "                   return_sequences=True   \n",
        "                   ))\n",
        "\n",
        "    model.add(Dropout(rate=hp.Float('dropout_rate',\n",
        "                                    min_value=0.5,\n",
        "                                    max_value=0.8,\n",
        "                                    step=0.1)\n",
        "                      ))\n",
        "\n",
        "    model.add(Dense(10))\n",
        "\n",
        "    # output layer\n",
        "    model.add(Dense(1, activation='sigmoid'))  \n",
        "\n",
        "    model.compile(\n",
        "        optimizer='adam',\n",
        "        loss='binary_crossentropy',\n",
        "        metrics=['accuracy'])\n",
        "    return model\n"
      ],
      "metadata": {
        "id": "Vyr4Lx3FLhVc"
      },
      "execution_count": 41,
      "outputs": []
    },
    {
      "cell_type": "markdown",
      "source": [
        "Model 1 is testing hidden units sizes: 15, 20, 25\n",
        "and dropout-rates: 0.5, 0.6, 0.7, 0.8 \n",
        "it takes 3*4=12 trials "
      ],
      "metadata": {
        "id": "Am-nwmQiea4-"
      }
    },
    {
      "cell_type": "code",
      "source": [
        "tuner_1 = kt.Hyperband(\n",
        "    build_model_1,\n",
        "    objective='val_accuracy',\n",
        "    max_epochs=5,\n",
        "    factor=3, # 3 is the default value \n",
        "    directory='my_dir',\n",
        "    project_name=\"DL_project_Tuner_1\"\n",
        ")\n",
        "\n",
        "tuner_1.search_space_summary()\n",
        "print(\"\\n\")\n",
        "\n",
        "tuner_1.search(x_train, y_train,\n",
        "             epochs=5,\n",
        "             validation_split=0.2\n",
        "             )\n",
        "tuner_1.results_summary()\n",
        "best_model = tuner_1.get_best_models()[0]"
      ],
      "metadata": {
        "colab": {
          "base_uri": "https://localhost:8080/"
        },
        "id": "H5dm5UL7e5_j",
        "outputId": "b4f9f4d2-a324-46dd-ea41-f79101915c0b"
      },
      "execution_count": 42,
      "outputs": [
        {
          "output_type": "stream",
          "name": "stdout",
          "text": [
            "Trial 10 Complete [00h 02m 23s]\n",
            "val_accuracy: 0.5814428925514221\n",
            "\n",
            "Best val_accuracy So Far: 0.5817626714706421\n",
            "Total elapsed time: 00h 10m 47s\n",
            "INFO:tensorflow:Oracle triggered exit\n",
            "Results summary\n",
            "Results in my_dir/DL_project_Tuner_1\n",
            "Showing 10 best trials\n",
            "Objective(name='val_accuracy', direction='max')\n",
            "Trial summary\n",
            "Hyperparameters:\n",
            "units1: 25\n",
            "dropout_rate: 0.7999999999999999\n",
            "tuner/epochs: 5\n",
            "tuner/initial_epoch: 2\n",
            "tuner/bracket: 1\n",
            "tuner/round: 1\n",
            "tuner/trial_id: 15cfd9ae353602179d08b9927d0a10d8\n",
            "Score: 0.5817626714706421\n",
            "Trial summary\n",
            "Hyperparameters:\n",
            "units1: 15\n",
            "dropout_rate: 0.7\n",
            "tuner/epochs: 2\n",
            "tuner/initial_epoch: 0\n",
            "tuner/bracket: 1\n",
            "tuner/round: 0\n",
            "Score: 0.5816506147384644\n",
            "Trial summary\n",
            "Hyperparameters:\n",
            "units1: 25\n",
            "dropout_rate: 0.7999999999999999\n",
            "tuner/epochs: 2\n",
            "tuner/initial_epoch: 0\n",
            "tuner/bracket: 1\n",
            "tuner/round: 0\n",
            "Score: 0.5815693736076355\n",
            "Trial summary\n",
            "Hyperparameters:\n",
            "units1: 20\n",
            "dropout_rate: 0.7\n",
            "tuner/epochs: 5\n",
            "tuner/initial_epoch: 0\n",
            "tuner/bracket: 0\n",
            "tuner/round: 0\n",
            "Score: 0.5814428925514221\n",
            "Trial summary\n",
            "Hyperparameters:\n",
            "units1: 15\n",
            "dropout_rate: 0.7\n",
            "tuner/epochs: 5\n",
            "tuner/initial_epoch: 2\n",
            "tuner/bracket: 1\n",
            "tuner/round: 1\n",
            "tuner/trial_id: 05e5e93515eb481d426a91bbf26b8c10\n",
            "Score: 0.58134925365448\n",
            "Trial summary\n",
            "Hyperparameters:\n",
            "units1: 20\n",
            "dropout_rate: 0.6\n",
            "tuner/epochs: 5\n",
            "tuner/initial_epoch: 0\n",
            "tuner/bracket: 0\n",
            "tuner/round: 0\n",
            "Score: 0.5813246965408325\n",
            "Trial summary\n",
            "Hyperparameters:\n",
            "units1: 15\n",
            "dropout_rate: 0.6\n",
            "tuner/epochs: 5\n",
            "tuner/initial_epoch: 0\n",
            "tuner/bracket: 0\n",
            "tuner/round: 0\n",
            "Score: 0.5807968974113464\n",
            "Trial summary\n",
            "Hyperparameters:\n",
            "units1: 25\n",
            "dropout_rate: 0.7\n",
            "tuner/epochs: 2\n",
            "tuner/initial_epoch: 0\n",
            "tuner/bracket: 1\n",
            "tuner/round: 0\n",
            "Score: 0.5800743699073792\n",
            "Trial summary\n",
            "Hyperparameters:\n",
            "units1: 20\n",
            "dropout_rate: 0.5\n",
            "tuner/epochs: 2\n",
            "tuner/initial_epoch: 0\n",
            "tuner/bracket: 1\n",
            "tuner/round: 0\n",
            "Score: 0.5793932676315308\n",
            "Trial summary\n",
            "Hyperparameters:\n",
            "units1: 25\n",
            "dropout_rate: 0.6\n",
            "tuner/epochs: 2\n",
            "tuner/initial_epoch: 0\n",
            "tuner/bracket: 1\n",
            "tuner/round: 0\n",
            "Score: 0.5705482959747314\n"
          ]
        }
      ]
    },
    {
      "cell_type": "markdown",
      "source": [
        "---\n",
        "\n",
        "**TEST ONE ENDS HERE!!**\n",
        "\n",
        "Total elapsed time: 00h 24m 29s\n",
        "\n",
        "**Best Result Hyperparameters:** \n",
        "\n",
        "units1: 15\n",
        "\n",
        "dropout_rate: 0.5\n",
        "\n",
        "Score: 0.5700136423110962\n",
        "\n",
        "---\n",
        "\n",
        "Now we will execute the same test but use a bidirectional GRU layer"
      ],
      "metadata": {
        "id": "29XjiCE6fcfF"
      }
    },
    {
      "cell_type": "code",
      "source": [
        "def build_model_2(hp):\n",
        "    model = Sequential()\n",
        "\n",
        "    #  input layer\n",
        "    model.add(Embedding(input_dim=20000, output_dim=16, input_length=1000))\n",
        "\n",
        "    #  hidden layers \n",
        "    model.add(Bidirectional(GRU(units=hp.Int('units1',   \n",
        "                                 min_value=15,         \n",
        "                                 max_value=25,\n",
        "                                 step=5),\n",
        "                   return_sequences=True   \n",
        "                   )))\n",
        "\n",
        "    model.add(Dropout(rate=hp.Float('dropout_rate',\n",
        "                                    min_value=0.5,\n",
        "                                    max_value=0.8,\n",
        "                                    step=0.1)\n",
        "                      ))\n",
        "\n",
        "    model.add(Dense(10))\n",
        "\n",
        "    # output layer\n",
        "    model.add(Dense(1, activation='sigmoid')) \n",
        "\n",
        "    model.compile(\n",
        "        optimizer='adam',\n",
        "        loss='binary_crossentropy',\n",
        "        metrics=['accuracy'])\n",
        "    return model"
      ],
      "metadata": {
        "id": "pZz_YWOylnXa"
      },
      "execution_count": 43,
      "outputs": []
    },
    {
      "cell_type": "code",
      "source": [
        "tuner_2 = kt.Hyperband(\n",
        "    build_model_2,\n",
        "    objective='val_accuracy',\n",
        "    max_epochs=5,\n",
        "    factor=3,\n",
        "    directory='my_dir',\n",
        "    project_name=\"DL_project_NumOfUnits\"\n",
        ")\n",
        "\n",
        "tuner_2.search_space_summary()\n",
        "\n",
        "tuner_2.search(x_train, y_train,\n",
        "             epochs=5,\n",
        "             validation_split=0.2\n",
        "             )\n",
        "tuner_2.results_summary()\n",
        "best_model = tuner_2.get_best_models()[0]"
      ],
      "metadata": {
        "colab": {
          "base_uri": "https://localhost:8080/"
        },
        "id": "oXReElPOmUzz",
        "outputId": "8b49ef7c-8885-4897-895a-67b560ebf62d"
      },
      "execution_count": 44,
      "outputs": [
        {
          "output_type": "stream",
          "name": "stdout",
          "text": [
            "Trial 10 Complete [00h 02m 49s]\n",
            "val_accuracy: 0.8716862201690674\n",
            "\n",
            "Best val_accuracy So Far: 0.8716862201690674\n",
            "Total elapsed time: 00h 19m 10s\n",
            "INFO:tensorflow:Oracle triggered exit\n",
            "Results summary\n",
            "Results in my_dir/DL_project_NumOfUnits\n",
            "Showing 10 best trials\n",
            "Objective(name='val_accuracy', direction='max')\n",
            "Trial summary\n",
            "Hyperparameters:\n",
            "units1: 15\n",
            "dropout_rate: 0.5\n",
            "tuner/epochs: 5\n",
            "tuner/initial_epoch: 0\n",
            "tuner/bracket: 0\n",
            "tuner/round: 0\n",
            "Score: 0.8716862201690674\n",
            "Trial summary\n",
            "Hyperparameters:\n",
            "units1: 20\n",
            "dropout_rate: 0.5\n",
            "tuner/epochs: 5\n",
            "tuner/initial_epoch: 0\n",
            "tuner/bracket: 0\n",
            "tuner/round: 0\n",
            "Score: 0.8708405494689941\n",
            "Trial summary\n",
            "Hyperparameters:\n",
            "units1: 20\n",
            "dropout_rate: 0.7\n",
            "tuner/epochs: 5\n",
            "tuner/initial_epoch: 2\n",
            "tuner/bracket: 1\n",
            "tuner/round: 1\n",
            "tuner/trial_id: c3b023bdf197d6e0107074017df3eb62\n",
            "Score: 0.8560376167297363\n",
            "Trial summary\n",
            "Hyperparameters:\n",
            "units1: 20\n",
            "dropout_rate: 0.7\n",
            "tuner/epochs: 2\n",
            "tuner/initial_epoch: 0\n",
            "tuner/bracket: 1\n",
            "tuner/round: 0\n",
            "Score: 0.8556506633758545\n",
            "Trial summary\n",
            "Hyperparameters:\n",
            "units1: 20\n",
            "dropout_rate: 0.6\n",
            "tuner/epochs: 2\n",
            "tuner/initial_epoch: 0\n",
            "tuner/bracket: 1\n",
            "tuner/round: 0\n",
            "Score: 0.8504189252853394\n",
            "Trial summary\n",
            "Hyperparameters:\n",
            "units1: 15\n",
            "dropout_rate: 0.7\n",
            "tuner/epochs: 5\n",
            "tuner/initial_epoch: 0\n",
            "tuner/bracket: 0\n",
            "tuner/round: 0\n",
            "Score: 0.8471291065216064\n",
            "Trial summary\n",
            "Hyperparameters:\n",
            "units1: 20\n",
            "dropout_rate: 0.7999999999999999\n",
            "tuner/epochs: 2\n",
            "tuner/initial_epoch: 0\n",
            "tuner/bracket: 1\n",
            "tuner/round: 0\n",
            "Score: 0.8332824110984802\n",
            "Trial summary\n",
            "Hyperparameters:\n",
            "units1: 15\n",
            "dropout_rate: 0.6\n",
            "tuner/epochs: 2\n",
            "tuner/initial_epoch: 0\n",
            "tuner/bracket: 1\n",
            "tuner/round: 0\n",
            "Score: 0.8117576837539673\n",
            "Trial summary\n",
            "Hyperparameters:\n",
            "units1: 25\n",
            "dropout_rate: 0.7\n",
            "tuner/epochs: 2\n",
            "tuner/initial_epoch: 0\n",
            "tuner/bracket: 1\n",
            "tuner/round: 0\n",
            "Score: 0.798319935798645\n",
            "Trial summary\n",
            "Hyperparameters:\n",
            "units1: 20\n",
            "dropout_rate: 0.6\n",
            "tuner/epochs: 5\n",
            "tuner/initial_epoch: 2\n",
            "tuner/bracket: 1\n",
            "tuner/round: 1\n",
            "tuner/trial_id: 132ddacd841170f5e06e4c65524b327a\n",
            "Score: 0.6836379766464233\n"
          ]
        }
      ]
    },
    {
      "cell_type": "markdown",
      "source": [
        "---\n",
        "\n",
        "***Model 2 Test is done here!!***\n",
        "\n",
        "Total elapsed time: 00h 43m 33s\n",
        "\n",
        "Best Result Hyperparameters:\n",
        "\n",
        "units1: 20\n",
        "\n",
        "dropout_rate: 0.5\n",
        "\n",
        "Score: 0.8619143962860107\n",
        "---\n"
      ],
      "metadata": {
        "id": "zSi6-GsGmYTv"
      }
    },
    {
      "cell_type": "code",
      "source": [
        "def build_model_3(hp):\n",
        "    model = Sequential()\n",
        "\n",
        "    #  input layer\n",
        "    model.add(Embedding(input_dim=20000, output_dim=16, input_length=1000))\n",
        "\n",
        "    #  hidden layers \n",
        "    for i in range(hp.Int('layers', 1, 5)):             # using 1-5 GRU layers\n",
        "        model.add(Bidirectional(GRU(20, return_sequences=True))) \n",
        "\n",
        "    model.add(Dropout(0.5))\n",
        "    model.add(Dense(10))\n",
        "    \n",
        "    # output layer\n",
        "    model.add(Dense(1, activation='sigmoid'))  \n",
        "\n",
        "    model.compile(\n",
        "        optimizer='adam',\n",
        "        loss='binary_crossentropy',\n",
        "        metrics=['accuracy'])\n",
        "    return model\n"
      ],
      "metadata": {
        "id": "wiTWa2gqp6-4"
      },
      "execution_count": 45,
      "outputs": []
    },
    {
      "cell_type": "code",
      "source": [
        "tuner_3 = kt.Hyperband(\n",
        "    build_model_3,\n",
        "    objective='val_accuracy',\n",
        "    max_epochs=5,\n",
        "    factor=3,\n",
        "    directory='my_dir',\n",
        "    project_name=\"DL_project_NumOfLayers\"\n",
        ")\n",
        "\n",
        "tuner_3.search_space_summary()\n",
        "\n",
        "tuner_3.search(x_train, y_train,\n",
        "             epochs=5,\n",
        "             validation_split=0.2\n",
        "             )\n",
        "tuner_3.results_summary()\n",
        "best_model = tuner_3.get_best_models()[0]"
      ],
      "metadata": {
        "colab": {
          "base_uri": "https://localhost:8080/"
        },
        "id": "ljVzRKnlqWGD",
        "outputId": "9a5c201a-6f51-4e12-ae41-ebb592d8a898"
      },
      "execution_count": 46,
      "outputs": [
        {
          "output_type": "stream",
          "name": "stdout",
          "text": [
            "Trial 7 Complete [00h 03m 14s]\n",
            "val_accuracy: 0.8962533473968506\n",
            "\n",
            "Best val_accuracy So Far: 0.8966641426086426\n",
            "Total elapsed time: 00h 26m 22s\n",
            "INFO:tensorflow:Oracle triggered exit\n",
            "Results summary\n",
            "Results in my_dir/DL_project_NumOfLayers\n",
            "Showing 10 best trials\n",
            "Objective(name='val_accuracy', direction='max')\n",
            "Trial summary\n",
            "Hyperparameters:\n",
            "layers: 4\n",
            "tuner/epochs: 5\n",
            "tuner/initial_epoch: 2\n",
            "tuner/bracket: 1\n",
            "tuner/round: 1\n",
            "tuner/trial_id: 2e10713edf43c69cc0b33340f54a1fff\n",
            "Score: 0.8966641426086426\n",
            "Trial summary\n",
            "Hyperparameters:\n",
            "layers: 2\n",
            "tuner/epochs: 5\n",
            "tuner/initial_epoch: 2\n",
            "tuner/bracket: 1\n",
            "tuner/round: 1\n",
            "tuner/trial_id: 1866371aacd4398808598b5376bfb0f2\n",
            "Score: 0.8962533473968506\n",
            "Trial summary\n",
            "Hyperparameters:\n",
            "layers: 4\n",
            "tuner/epochs: 2\n",
            "tuner/initial_epoch: 0\n",
            "tuner/bracket: 1\n",
            "tuner/round: 0\n",
            "Score: 0.8911047577857971\n",
            "Trial summary\n",
            "Hyperparameters:\n",
            "layers: 2\n",
            "tuner/epochs: 2\n",
            "tuner/initial_epoch: 0\n",
            "tuner/bracket: 1\n",
            "tuner/round: 0\n",
            "Score: 0.8880936503410339\n",
            "Trial summary\n",
            "Hyperparameters:\n",
            "layers: 3\n",
            "tuner/epochs: 2\n",
            "tuner/initial_epoch: 0\n",
            "tuner/bracket: 1\n",
            "tuner/round: 0\n",
            "Score: 0.8876936435699463\n",
            "Trial summary\n",
            "Hyperparameters:\n",
            "layers: 5\n",
            "tuner/epochs: 2\n",
            "tuner/initial_epoch: 0\n",
            "tuner/bracket: 1\n",
            "tuner/round: 0\n",
            "Score: 0.8722981214523315\n",
            "Trial summary\n",
            "Hyperparameters:\n",
            "layers: 1\n",
            "tuner/epochs: 2\n",
            "tuner/initial_epoch: 0\n",
            "tuner/bracket: 1\n",
            "tuner/round: 0\n",
            "Score: 0.7591552138328552\n"
          ]
        }
      ]
    },
    {
      "cell_type": "markdown",
      "source": [
        "---\n",
        "\n",
        "***Model 3 Test is done here!!***\n",
        "\n",
        "Total elapsed time: 00h 55m 38s\n",
        "\n",
        "Best Result Hyperparameters:\n",
        "\n",
        "layers: 2\n",
        "\n",
        "Score: 0.8920307159423828\n",
        "---\n"
      ],
      "metadata": {
        "id": "m2vWkGRiqFcC"
      }
    },
    {
      "cell_type": "code",
      "source": [
        "def build_model_4(hp):\n",
        "    model = Sequential()\n",
        "\n",
        "    #  input layer\n",
        "    model.add(Embedding(input_dim=20000, output_dim=16, input_length=1000))\n",
        "\n",
        "    #  hidden layers \n",
        "    model.add(Bidirectional(GRU(20, return_sequences=True)))  \n",
        "    model.add(Bidirectional(GRU(20, return_sequences=True)))  \n",
        "    model.add(Dropout(0.5))\n",
        "    model.add(Dense(10))\n",
        "    \n",
        "    # output layer\n",
        "    model.add(Dense(1, activation='sigmoid'))  \n",
        "\n",
        "    model.compile(\n",
        "        #optimizer='adam',\n",
        "        optimizer=tf.keras.optimizers.Adam(\n",
        "        hp.Choice('learning_rate', values=[1e-1, 1e-2,1e-3, 1e-4])),\n",
        "\n",
        "        loss='binary_crossentropy',\n",
        "        metrics=['accuracy'])\n",
        "    return model\n"
      ],
      "metadata": {
        "id": "Cbq5wTxAypUz"
      },
      "execution_count": 1,
      "outputs": []
    },
    {
      "cell_type": "code",
      "source": [
        "tuner_4 = kt.Hyperband(\n",
        "    build_model_4,\n",
        "    objective='val_accuracy',\n",
        "    max_epochs=5,\n",
        "    factor=3,\n",
        "    directory='my_dir',\n",
        "    project_name=\"DL_project_optimizer\"\n",
        ")\n",
        "\n",
        "tuner_4.search_space_summary()\n",
        "\n",
        "tuner_4.search(x_train, y_train,\n",
        "             epochs=5,\n",
        "             validation_split=0.2\n",
        "             )\n",
        "tuner_4.results_summary()\n",
        "best_model = tuner_4.get_best_models()[0]"
      ],
      "metadata": {
        "colab": {
          "base_uri": "https://localhost:8080/"
        },
        "id": "jp8IzcvaypGq",
        "outputId": "d45ce84d-eee3-4b02-f903-f5abfefbeb9c"
      },
      "execution_count": 4,
      "outputs": [
        {
          "output_type": "stream",
          "name": "stdout",
          "text": [
            "Trial 4 Complete [00h 03m 26s]\n",
            "val_accuracy: 0.891549289226532\n",
            "\n",
            "Best val_accuracy So Far: 0.9090842604637146\n",
            "Total elapsed time: 00h 13m 26s\n",
            "INFO:tensorflow:Oracle triggered exit\n",
            "Results summary\n",
            "Results in my_dir/DL_project_optimizer\n",
            "Showing 10 best trials\n",
            "Objective(name='val_accuracy', direction='max')\n",
            "Trial summary\n",
            "Hyperparameters:\n",
            "learning_rate: 0.01\n",
            "tuner/epochs: 2\n",
            "tuner/initial_epoch: 0\n",
            "tuner/bracket: 1\n",
            "tuner/round: 0\n",
            "Score: 0.9090842604637146\n",
            "Trial summary\n",
            "Hyperparameters:\n",
            "learning_rate: 0.001\n",
            "tuner/epochs: 2\n",
            "tuner/initial_epoch: 0\n",
            "tuner/bracket: 1\n",
            "tuner/round: 0\n",
            "Score: 0.891549289226532\n",
            "Trial summary\n",
            "Hyperparameters:\n",
            "learning_rate: 0.0001\n",
            "tuner/epochs: 2\n",
            "tuner/initial_epoch: 0\n",
            "tuner/bracket: 1\n",
            "tuner/round: 0\n",
            "Score: 0.832009494304657\n",
            "Trial summary\n",
            "Hyperparameters:\n",
            "learning_rate: 0.1\n",
            "tuner/epochs: 2\n",
            "tuner/initial_epoch: 0\n",
            "tuner/bracket: 1\n",
            "tuner/round: 0\n",
            "Score: 0.5062000155448914\n"
          ]
        }
      ]
    },
    {
      "cell_type": "markdown",
      "source": [
        "---\n",
        "\n",
        "***Model 4 Test is done here!!***\n",
        "\n",
        "Total elapsed time: 00h 09m 39s\n",
        "\n",
        "Best Result Hyperparameters:\n",
        "\n",
        "Learning Rate: 0.01\n",
        "\n",
        "Score: 0.9075791239738464\n",
        "---"
      ],
      "metadata": {
        "id": "VWU7LOA_IAhk"
      }
    },
    {
      "cell_type": "markdown",
      "source": [
        "So the best model is: \n",
        "layers: 2\n",
        "units: 20\n",
        "learning rate: 0.01\n",
        "dropout rate: 0.5\n",
        "\n"
      ],
      "metadata": {
        "id": "1kXoXpUbb1RB"
      }
    },
    {
      "cell_type": "markdown",
      "source": [
        "Plot function from Thomas"
      ],
      "metadata": {
        "id": "qvjSRpztBQ8Z"
      }
    },
    {
      "cell_type": "code",
      "source": [
        ""
      ],
      "metadata": {
        "id": "TW5WLIUcBC0i"
      },
      "execution_count": 20,
      "outputs": []
    },
    {
      "cell_type": "code",
      "source": [
        "\n",
        "model = Sequential()\n",
        "\n",
        "#  input layer\n",
        "model.add(Embedding(input_dim=20000, output_dim=16, input_length=1000))\n",
        "\n",
        "#  hidden layers \n",
        "model.add(Bidirectional(GRU(20, return_sequences=True)))  \n",
        "model.add(Bidirectional(GRU(20, return_sequences=True)))  \n",
        "model.add(Dropout(0.5))\n",
        "model.add(Dense(10))\n",
        "\n",
        "# output layer\n",
        "model.add(Dense(1, activation='sigmoid'))  \n",
        "\n",
        "model.compile(\n",
        "    optimizer=tf.keras.optimizers.Adam(0.01),\n",
        "    loss='binary_crossentropy',\n",
        "    metrics=['accuracy'])\n"
      ],
      "metadata": {
        "id": "R4zPFOXwcQFH"
      },
      "execution_count": 5,
      "outputs": []
    },
    {
      "cell_type": "code",
      "source": [
        "# earlystop = tf.keras.callbacks.EarlyStopping(monitor = 'loss',verbose = 0, mode = 'auto', patience = 3)\n",
        "# history = model.fit(x_train, y_train, epochs=20, batch_size=32, callbacks=[earlystop]) \n",
        "\n",
        "history = model.fit(x_train, y_train, epochs=20, batch_size=32, callbacks=[earlystop]) \n",
        "scores = model.evaluate(x_test, y_test, verbose=0)\n",
        "print(\"Accuracy: %.2f%%\" % (scores[1]*100))"
      ],
      "metadata": {
        "colab": {
          "base_uri": "https://localhost:8080/"
        },
        "id": "zW_W2Z5sCUD_",
        "outputId": "fac07314-b105-4ba7-9eea-d670f98636d8"
      },
      "execution_count": 6,
      "outputs": [
        {
          "output_type": "stream",
          "name": "stdout",
          "text": [
            "Epoch 1/20\n",
            "782/782 [==============================] - 104s 127ms/step - loss: 0.3716 - accuracy: 0.8088\n",
            "Epoch 2/20\n",
            "782/782 [==============================] - 99s 127ms/step - loss: 0.1455 - accuracy: 0.9500\n",
            "Epoch 3/20\n",
            "782/782 [==============================] - 99s 127ms/step - loss: 0.0672 - accuracy: 0.9787\n",
            "Epoch 4/20\n",
            "782/782 [==============================] - 99s 127ms/step - loss: 0.0382 - accuracy: 0.9880\n",
            "Epoch 5/20\n",
            "782/782 [==============================] - 99s 126ms/step - loss: 0.0287 - accuracy: 0.9913\n",
            "Epoch 6/20\n",
            "782/782 [==============================] - 99s 127ms/step - loss: 0.0205 - accuracy: 0.9937\n",
            "Epoch 7/20\n",
            "782/782 [==============================] - 99s 126ms/step - loss: 0.0496 - accuracy: 0.9835\n",
            "Epoch 8/20\n",
            "782/782 [==============================] - 99s 126ms/step - loss: 0.1114 - accuracy: 0.9624\n",
            "Epoch 9/20\n",
            "782/782 [==============================] - 99s 126ms/step - loss: 0.0565 - accuracy: 0.9818\n",
            "Epoch 10/20\n",
            "782/782 [==============================] - 99s 126ms/step - loss: 0.0304 - accuracy: 0.9913\n",
            "Epoch 11/20\n",
            "782/782 [==============================] - 99s 127ms/step - loss: 0.0199 - accuracy: 0.9944\n",
            "Epoch 12/20\n",
            "782/782 [==============================] - 99s 126ms/step - loss: 0.1306 - accuracy: 0.9512\n",
            "Epoch 13/20\n",
            "782/782 [==============================] - 99s 126ms/step - loss: nan - accuracy: 0.7494\n",
            "Epoch 14/20\n",
            "782/782 [==============================] - 99s 126ms/step - loss: nan - accuracy: 0.5000\n",
            "Epoch 15/20\n",
            "782/782 [==============================] - 99s 126ms/step - loss: nan - accuracy: 0.5000\n",
            "Epoch 16/20\n",
            "782/782 [==============================] - 99s 126ms/step - loss: nan - accuracy: 0.5000\n",
            "Epoch 17/20\n",
            "782/782 [==============================] - 99s 127ms/step - loss: nan - accuracy: 0.5000\n",
            "Epoch 18/20\n",
            "782/782 [==============================] - 99s 126ms/step - loss: nan - accuracy: 0.5000\n",
            "Epoch 19/20\n",
            "782/782 [==============================] - 99s 126ms/step - loss: nan - accuracy: 0.5000\n",
            "Epoch 20/20\n",
            "782/782 [==============================] - 96s 123ms/step - loss: nan - accuracy: 0.5000\n",
            "Accuracy: 50.00%\n"
          ]
        }
      ]
    },
    {
      "cell_type": "code",
      "source": [
        "from matplotlib import pyplot as plt\n",
        "def plotMetrics(model, title, SAFE_PLOTS=False, directory=\"\", filename=\"\"):\n",
        "\n",
        "    counter = 0\n",
        "    fig, ax = plt.subplots(2,1)\n",
        "    #for label,values in model.history.history.items():\n",
        "    for label,values in history.history.items():\n",
        "      # counter 0,2 -> loss\n",
        "      # counter 1,3 -> accuracy\n",
        "      # depending on counter plot loss or accuracy\n",
        "      # accuracy is calculated in % -> times 100\n",
        "\n",
        "      values_ = (counter%2)*100*np.array(values) + (1-(counter%2))*np.array(values)\n",
        "      ax[counter % 2].plot(range(1,len(values)+1,1), values_ , label=label)\n",
        "      \n",
        "      counter = counter + 1\n",
        "    \n",
        "    ax[0].set_xlabel('epochs')\n",
        "    ax[0].set_ylabel('loss')\n",
        "    ax[0].grid()\n",
        "    ax[0].legend()\n",
        "\n",
        "    ax[1].set_xlabel('epochs')\n",
        "    ax[1].set_ylabel('accuracy')\n",
        "    ax[1].grid()\n",
        "    ax[1].legend()\n",
        "\n",
        "    ax[0].set_title(title)\n",
        "\n",
        "    fig.tight_layout()\n",
        "    \n",
        "    \n",
        "    if SAFE_PLOTS:\n",
        "        if not os.path.exists(directory):\n",
        "            os.makedirs(directory)\n",
        "        plt.savefig(directory+filename)\n",
        "    \n",
        "    plt.show()\n",
        "\n",
        "\n",
        "plotMetrics(history, \"Final GRU Model\")"
      ],
      "metadata": {
        "colab": {
          "base_uri": "https://localhost:8080/",
          "height": 297
        },
        "id": "pAkt_5zJBwvk",
        "outputId": "7d25242d-1ea5-4a82-89bf-48deff2ed265"
      },
      "execution_count": 37,
      "outputs": [
        {
          "output_type": "display_data",
          "data": {
            "image/png": "[encoded data removed]",
            "text/plain": [
              "<Figure size 432x288 with 2 Axes>"
            ]
          },
          "metadata": {
            "needs_background": "light"
          }
        }
      ]
    },
    {
      "cell_type": "markdown",
      "source": [
        "When using the final model, we can reach a **value accuracy of 99.67%** when using 9 Epochs!"
      ],
      "metadata": {
        "id": "Q_-OgW4Bi_en"
      }
    }
  ]
}